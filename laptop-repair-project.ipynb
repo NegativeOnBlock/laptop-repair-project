{
 "cells": [
  {
   "cell_type": "code",
   "execution_count": 1,
   "id": "81fcf574",
   "metadata": {},
   "outputs": [],
   "source": [
    "import pandas as pd"
   ]
  },
  {
   "cell_type": "code",
   "execution_count": 4,
   "id": "26ba1ec0",
   "metadata": {},
   "outputs": [
    {
     "name": "stdout",
     "output_type": "stream",
     "text": [
      "          id      data_provider country partner_product_category  \\\n",
      "0  rcwales_3  Repair Cafe Wales     GBR        Electrical ~ Iron   \n",
      "1  rcwales_4  Repair Cafe Wales     GBR               Electrical   \n",
      "2  rcwales_5  Repair Cafe Wales     GBR          Electrical ~ TV   \n",
      "3  rcwales_6  Repair Cafe Wales     GBR               Electrical   \n",
      "4  rcwales_7  Repair Cafe Wales     GBR     Other ~ Guitar pedal   \n",
      "\n",
      "  product_category  product_category_id    brand  year_of_manufacture  \\\n",
      "0             Iron                   40  Unknown                  NaN   \n",
      "1             Misc                   18  Unknown                  NaN   \n",
      "2      Flat screen                    8  Unknown                  NaN   \n",
      "3             Misc                   18  Unknown                  NaN   \n",
      "4             Misc                   18  Unknown                  NaN   \n",
      "\n",
      "   product_age repair_status repair_barrier_if_end_of_life group_identifier  \\\n",
      "0          NaN         Fixed                           NaN  Cardiff Cathays   \n",
      "1          NaN    Repairable                           NaN  Cardiff Cathays   \n",
      "2          NaN    Repairable                           NaN  Cardiff Cathays   \n",
      "3          NaN       Unknown                           NaN  Cardiff Cathays   \n",
      "4          NaN         Fixed                           NaN  Cardiff Cathays   \n",
      "\n",
      "   event_date                             problem  \n",
      "0  2017-04-01                         Iron Broken  \n",
      "1  2017-04-01        Stops working intermittently  \n",
      "2  2017-04-01  TV stopped working - on/off button  \n",
      "3  2017-04-01                         not heating  \n",
      "4  2017-04-01        Guitar pedal Doesn't turn on  \n"
     ]
    }
   ],
   "source": [
    "openrd = pd.read_csv('OpenRepairData_v0.3_RepairCafeWales_202210.csv')\n",
    "\n",
    "print(openrd.head(5))"
   ]
  },
  {
   "cell_type": "code",
   "execution_count": 5,
   "id": "0cfdae5b",
   "metadata": {},
   "outputs": [
    {
     "name": "stdout",
     "output_type": "stream",
     "text": [
      "id                                object\n",
      "data_provider                     object\n",
      "country                           object\n",
      "partner_product_category          object\n",
      "product_category                  object\n",
      "product_category_id                int64\n",
      "brand                             object\n",
      "year_of_manufacture              float64\n",
      "product_age                      float64\n",
      "repair_status                     object\n",
      "repair_barrier_if_end_of_life     object\n",
      "group_identifier                  object\n",
      "event_date                        object\n",
      "problem                           object\n",
      "dtype: object\n"
     ]
    }
   ],
   "source": [
    "print(openrd.dtypes)"
   ]
  },
  {
   "cell_type": "code",
   "execution_count": 13,
   "id": "44ea4a4e",
   "metadata": {},
   "outputs": [
    {
     "name": "stdout",
     "output_type": "stream",
     "text": [
      "Unknown           2596\n",
      "Dyson              139\n",
      "Sony                61\n",
      "Kenwood             59\n",
      "Bosch               57\n",
      "                  ... \n",
      "Rose & Butler        1\n",
      "beam 4 DJs           1\n",
      "Sherper              1\n",
      "Wisenet              1\n",
      "vacuum cleaner       1\n",
      "Name: brand, Length: 1057, dtype: int64\n"
     ]
    }
   ],
   "source": [
    "print(openrd.brand.value_counts())"
   ]
  },
  {
   "cell_type": "code",
   "execution_count": 14,
   "id": "194a0df4",
   "metadata": {},
   "outputs": [
    {
     "name": "stdout",
     "output_type": "stream",
     "text": [
      "Fixed          0.464911\n",
      "End of life    0.239581\n",
      "Repairable     0.183655\n",
      "Unknown        0.111853\n",
      "Name: repair_status, dtype: float64\n"
     ]
    }
   ],
   "source": [
    "print(openrd.repair_status.value_counts(normalize=True))"
   ]
  },
  {
   "cell_type": "code",
   "execution_count": null,
   "id": "626e29ab",
   "metadata": {},
   "outputs": [],
   "source": []
  }
 ],
 "metadata": {
  "kernelspec": {
   "display_name": "Python 3",
   "language": "python",
   "name": "python3"
  },
  "language_info": {
   "codemirror_mode": {
    "name": "ipython",
    "version": 3
   },
   "file_extension": ".py",
   "mimetype": "text/x-python",
   "name": "python",
   "nbconvert_exporter": "python",
   "pygments_lexer": "ipython3",
   "version": "3.8.10"
  }
 },
 "nbformat": 4,
 "nbformat_minor": 5
}
